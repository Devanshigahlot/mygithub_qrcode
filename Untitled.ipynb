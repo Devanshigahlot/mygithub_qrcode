{
 "cells": [
  {
   "cell_type": "code",
   "execution_count": 1,
   "id": "7d4159d9",
   "metadata": {},
   "outputs": [
    {
     "name": "stdout",
     "output_type": "stream",
     "text": [
      "Requirement already satisfied: qrcode in c:\\users\\devanshi gahlot\\anaconda3\\lib\\site-packages (7.4.2)Note: you may need to restart the kernel to use updated packages.\n",
      "\n",
      "Requirement already satisfied: pypng in c:\\users\\devanshi gahlot\\anaconda3\\lib\\site-packages (from qrcode) (0.20220715.0)\n",
      "Requirement already satisfied: colorama in c:\\users\\devanshi gahlot\\anaconda3\\lib\\site-packages (from qrcode) (0.4.6)\n",
      "Requirement already satisfied: typing-extensions in c:\\users\\devanshi gahlot\\anaconda3\\lib\\site-packages (from qrcode) (4.4.0)\n"
     ]
    }
   ],
   "source": [
    "pip install qrcode\n"
   ]
  },
  {
   "cell_type": "code",
   "execution_count": 2,
   "id": "8595a4ef",
   "metadata": {},
   "outputs": [],
   "source": [
    "import qrcode as qr\n"
   ]
  },
  {
   "cell_type": "code",
   "execution_count": 3,
   "id": "8a2e8d9a",
   "metadata": {},
   "outputs": [],
   "source": [
    "img=qr.make(\"https://github.com/Devanshigahlot\")\n",
    "img.save(\"mygithub_qrcode.png\")"
   ]
  },
  {
   "cell_type": "code",
   "execution_count": null,
   "id": "143c74a9",
   "metadata": {},
   "outputs": [],
   "source": []
  }
 ],
 "metadata": {
  "kernelspec": {
   "display_name": "Python 3 (ipykernel)",
   "language": "python",
   "name": "python3"
  },
  "language_info": {
   "codemirror_mode": {
    "name": "ipython",
    "version": 3
   },
   "file_extension": ".py",
   "mimetype": "text/x-python",
   "name": "python",
   "nbconvert_exporter": "python",
   "pygments_lexer": "ipython3",
   "version": "3.10.9"
  }
 },
 "nbformat": 4,
 "nbformat_minor": 5
}
